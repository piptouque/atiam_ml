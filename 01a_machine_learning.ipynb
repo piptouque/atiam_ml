{
 "cells": [
  {
   "cell_type": "markdown",
   "metadata": {},
   "source": [
    "# Music machine learning - Introduction\n",
    "\n",
    "### Author: Philippe Esling (esling@ircam.fr)\n",
    "\n",
    "In this course we will cover\n",
    "1. A [first definition](#definition) on the concept of machine learning\n",
    "2. An introduction to a simple problem of [linear regression](#regression)\n",
    "3. An explanation on [model capacity and overfitting](#capacity)\n",
    "4. An introduction to the [audio datasets](#audio) that we will use"
   ]
  },
  {
   "cell_type": "markdown",
   "metadata": {},
   "source": [
    "<a id=\"definition\"></a>\n",
    "## Defining machine learning\n",
    "\n",
    "In all natural process, there exists complex relations between sets $\\mathcal{X} \\mapsto \\mathcal{Y}$. This can relate some objects with their names, or a cause to a consequence. In most cases, _we do not know the precise relations_ between these sets, all we have is _observations_ such as pairs $(x,y)$, composed of input data $x \\in \\mathcal{X}$, which have a corresponding expected output $y \\in \\mathcal{Y}$. The overarching goal of machine learning is to approximate such _unknown processes_ as a function $\\mathcal{F}_{\\theta}$, which _transforms_ input data $x$ into output data $y$.\n",
    "\n",
    "<img src=\"images/01_machine_learning_basic.png\" align=\"center\"/>\n",
    "\n",
    "Hence, machine learning aims to understand and model the relationship between some (usually complex and high-dimensional) inputs $\\mathbf{x}\\in\\mathcal{X}\\subset\\mathbb{R}^{\\mathcal{X}}$ and outputs $\\mathbf{y}\\in\\mathcal{Y}\\subset\\mathbb{R}^{\\mathcal{Y}}$, given by a set of data examples $\\mathcal{D}=\\left\\{(x_1,y_1),\\cdots,(x_N,y_N)\\right\\}$. This is achieved by defining a parametric model $f_{\\mathbf{\\theta}}\\in\\mathcal{F}$ inside a family of functions $\\mathcal{F}$, which depends on parameters $\\mathbf{\\theta} \\in \\mathbf{\\Theta}$ and that could approximate the underlying relationship. The _learning_ aspect refers to the adjustment of the parameters $\\mathbf{\\theta}$ in order to obtain the best approximation of the given task\n",
    "$$\n",
    "\\begin{equation}\n",
    "f_{\\mathbf{\\theta}}(\\mathbf{x}) = \\hat{\\mathbf{y}}\\approx \\mathbf{y}.\n",
    "\\end{equation}\n",
    "$$\n",
    "\n",
    "To observe this idea in simple setups, we are going to use the `numpy` library and `matplotlib` for plotting. We also set some fixed random generator, to ensure reproducibility"
   ]
  },
  {
   "cell_type": "code",
   "execution_count": null,
   "metadata": {},
   "outputs": [],
   "source": [
    "# Base imports\n",
    "import numpy as np\n",
    "import matplotlib.pyplot as plt\n",
    "from helper_plot import prep_plots, finalize_plots, hdr_plot_style\n",
    "rng = np.random.RandomState(1)"
   ]
  },
  {
   "cell_type": "markdown",
   "metadata": {},
   "source": [
    "<a id=\"regression\"></a>\n",
    "## Simple learning problem\n",
    "\n",
    "Imagine that a certain process somewhere follows the form of a quadratic relationship\n",
    "\n",
    "$$\n",
    " y = a x^{2} + bx + c \n",
    "$$\n",
    "\n",
    "In this case, all the **unknown parameters** are that of a polynomial model, therefore we have $\\theta = \\{a, b, c\\}$. However, this is clearly an ideal (clean) case, whereas in natural observations, there might be some noise in our observations\n",
    "$$\n",
    " y = a x^{2} + bx + c +\\epsilon \\quad with \\quad \\epsilon \\in [-0.1, 0.1]\n",
    "$$\n",
    "\n",
    "An example of such noisy observations for different parameters is given below"
   ]
  },
  {
   "cell_type": "code",
   "execution_count": null,
   "metadata": {},
   "outputs": [],
   "source": [
    "noise_level = 0.1\n",
    "a, b, c = 3, 0, 1\n",
    "# Generating \n",
    "x = np.linspace(0, 1, 100)\n",
    "poly = np.poly1d([a, b, c])\n",
    "epsilon = np.random.uniform(-noise_level,noise_level,x.shape)\n",
    "y = poly(x) + epsilon\n",
    "ax1, = prep_plots([\"Simple learning problem\"], fig_size=(10,8), fig_num=1)\n",
    "ax1.scatter(x, y, color='green', s=50, marker='o', edgecolor='w', label=\"training samples\")\n",
    "finalize_plots([ax1], fig_title=\"\")\n",
    "#plt.xlim([-1, 2])"
   ]
  },
  {
   "cell_type": "markdown",
   "metadata": {},
   "source": [
    "Now our main problem is that this function can follow different types of parameters"
   ]
  },
  {
   "cell_type": "code",
   "execution_count": null,
   "metadata": {},
   "outputs": [],
   "source": [
    "params = [[3, 0, 1], [-2, 1, 0], [0.1, 1, 1]]\n",
    "ax = prep_plots([\"Problem 1\", \"Problem 2\", \"Problem 3\"], fig_size=(20,6), fig_num=1)\n",
    "# Generating \n",
    "x = np.linspace(0, 1, 100)\n",
    "for p in range(len(params)):\n",
    "    poly = np.poly1d(params[p])\n",
    "    epsilon = np.random.uniform(-noise_level,noise_level,x.shape)\n",
    "    y = poly(x) + epsilon\n",
    "    ax[p].scatter(x, y, color='green', s=50, marker='o', edgecolor='k', label=\"training samples\")\n",
    "finalize_plots(ax, fig_title=\"Different observations\")"
   ]
  },
  {
   "cell_type": "markdown",
   "metadata": {},
   "source": [
    "In real-life settings, this function can also have different levels of noise, as exemplified in the following code."
   ]
  },
  {
   "cell_type": "code",
   "execution_count": null,
   "metadata": {},
   "outputs": [],
   "source": [
    "params = [3, 0, 1]\n",
    "noise_levels = [0.1, 1.0, 8.0]\n",
    "ax = prep_plots([\"Problem 1\", \"Problem 2\", \"Problem 3\"], fig_size=(20,6), fig_num=1)\n",
    "# Generating \n",
    "x = np.linspace(0, 1, 100)\n",
    "for p in range(len(noise_levels)):\n",
    "    poly = np.poly1d(params)\n",
    "    epsilon = np.random.uniform(-noise_levels[p],noise_levels[p],x.shape)\n",
    "    y = poly(x) + epsilon\n",
    "    ax[p].scatter(x, y, color='green', s=50, marker='o', edgecolor='w', label=\"training samples\")\n",
    "finalize_plots(ax, fig_title=\"Different amounts of noise\")"
   ]
  },
  {
   "cell_type": "markdown",
   "metadata": {},
   "source": [
    "To summarize, we will have some observations of a function, and we would like to optimize a function that gets as close as possible to the real function that generated this data. Here, we plot the real function and also _subsample_ our number of observations (having only a few points to find the corresponding function)"
   ]
  },
  {
   "cell_type": "code",
   "execution_count": null,
   "metadata": {},
   "outputs": [],
   "source": [
    "# Generating the data and subsampling\n",
    "x_all = np.linspace(0, 1, 100); x_plot = np.linspace(0, 1, 100)\n",
    "rng.shuffle(x_all); x = np.sort(x_all[:10])\n",
    "poly = np.poly1d([3,0,1])\n",
    "# Adding some external\n",
    "epsilon = np.random.uniform(-0.1,0.1,x.shape)\n",
    "y = poly(x)+ epsilon\n",
    "# We keep the standard deviation for later\n",
    "nnstd = np.std(epsilon); lw = 2\n",
    "ax1, = prep_plots([\"Simple learning problem\"], fig_size=(10,8), fig_num=1)\n",
    "ax1.plot(x_plot, poly(x_plot), color='green', linewidth=4, label='true function')\n",
    "ax1.scatter(x, y, color='green', s=50, marker='o', edgecolor='w', label=\"training samples\")\n",
    "finalize_plots([ax1], fig_title=\"\")"
   ]
  },
  {
   "cell_type": "markdown",
   "metadata": {},
   "source": [
    "To get a first grip on what machine learning does, we will rely on the `scikit-learn` library. This contains already coded models and learning procedure, that will allow us to _learn_ the parameters of this unknown function.\n",
    "\n",
    "Here we already know that we want to use a `PolynomialFeatures` model to perfom `LinearRegression` and that this polynomial should be of degree 2."
   ]
  },
  {
   "cell_type": "code",
   "execution_count": null,
   "metadata": {},
   "outputs": [],
   "source": [
    "from sklearn.linear_model import LinearRegression\n",
    "from sklearn.preprocessing import PolynomialFeatures\n",
    "from sklearn.pipeline import make_pipeline\n",
    "# Our data to fit\n",
    "X = x[:, np.newaxis]\n",
    "# Degree of our polynomial\n",
    "degree = 2;\n",
    "# Create our polynomial model for regression\n",
    "model = make_pipeline(PolynomialFeatures(degree), LinearRegression())\n",
    "# Fit the parameters of this model\n",
    "model.fit(X, y)"
   ]
  },
  {
   "cell_type": "markdown",
   "metadata": {},
   "source": [
    "Now that we have trained the model, we can perform _predictions_ from it, meaning that we can infer the output of the function at values that we did not observe originally."
   ]
  },
  {
   "cell_type": "code",
   "execution_count": null,
   "metadata": {},
   "outputs": [],
   "source": [
    "# Inference points (not observed)\n",
    "X_plot = x_plot[:, np.newaxis]\n",
    "# Predict the values\n",
    "y_plot = model.predict(X_plot)\n",
    "# Compute the error of our model at observed points\n",
    "Y_model_err = np.sqrt(np.mean(np.square(y-model.predict(X))))\n",
    "# Plot the result\n",
    "ax1, = prep_plots([\"Trained model\"], fig_size=(10,8), fig_num=1)\n",
    "ax1.plot(x_plot, y_plot, color='red', linewidth=4, label='trained model')\n",
    "ax1.scatter(x, y, color='green', s=50, marker='o', edgecolor='w', label=\"training samples\")\n",
    "finalize_plots([ax1], fig_title=\"\")\n",
    "print(f'Model error : {Y_model_err}')"
   ]
  },
  {
   "cell_type": "markdown",
   "metadata": {},
   "source": [
    "<a id=\"capacity\"></a>\n",
    "## Understanding model capacity and selection\n",
    "\n",
    "\n",
    "In real-life problem, we are aiming to find the parameters of a model, but we do not really know what is the _real_ function underlying this process. So what we can decide to select _any_ function of _any_ **capacity** (complexity of the function). One of the problem with that, is that if we have a too simple function, it will _underfit_ (it is not complex enough for our observations). On the opposite end, if we have a function which is too complex, it might be able to _fit through all training points exactly_ ... even though there is noise in our observations ! This is examplified in the following\n",
    "\n",
    "<img src=\"images/01_soa_function_families.png\" align=\"center\"/>\n",
    "\n",
    "We can observe this idea and play with it directly by trying to find a function approximating our previous observations with a polynomial function chosen to have a degree inside \\([1,2,8]\\).\n"
   ]
  },
  {
   "cell_type": "code",
   "execution_count": null,
   "metadata": {},
   "outputs": [],
   "source": [
    "X_plot = x_plot[:, np.newaxis]\n",
    "ax1, ax2 = prep_plots([\"training error\", \"model generalization\"], fig_size=(15,4), fig_num=1)\n",
    "ax1.plot([1,8], [nnstd, nnstd], label=\"noise level\")\n",
    "ax2.scatter(x, y, color='orange', edgecolor='w', s=50, marker='o', label=\"training samples\")\n",
    "colors = ['blue', 'green', 'red']; labels = ['underfitting', 'good fit', 'overfitting']\n",
    "axes_sub = prep_plots(labels, fig_size=(15,4), fig_num=2)\n",
    "# Optimize different degree polynomials\n",
    "for count, degree in enumerate([1,2,8]):\n",
    "    model = make_pipeline(PolynomialFeatures(degree), LinearRegression())\n",
    "    model.fit(X, y)\n",
    "    Y_model_err = np.sqrt(np.mean(np.square(y-model.predict(X))))\n",
    "    y_plot = model.predict(X_plot)\n",
    "    ax1.scatter(degree, Y_model_err, s=50, marker=\"o\", edgecolor='w', label=labels[count])\n",
    "    ax2.plot(x_plot, y_plot, color=colors[count], linewidth=2,label=labels[count])\n",
    "    ax2.set_ylim((0,4))\n",
    "    axes_sub[count].scatter(x, y, color='orange', edgecolor='w', s=50, marker='o', label=\"Training samples\")\n",
    "    axes_sub[count].plot(x_plot, y_plot, color=colors[count], linewidth=2,label=labels[count])\n",
    "    axes_sub[count].set_ylim((0,4))\n",
    "finalize_plots(axes_sub, fig_title=\"Linear regression\")\n",
    "finalize_plots([ax1,ax2], fig_title=\"Linear regression\")"
   ]
  },
  {
   "cell_type": "markdown",
   "metadata": {},
   "source": [
    "\n",
    "Depending on the _capacity_ of the model, what we can observe is that\n",
    "\n",
    "- `capacity too low   -> underfitting   : prediction variance >  noise variance`\n",
    "- `adequate capacity  -> good fit       : prediction variance == noise variance`\n",
    "- `capacity too high  -> overfitting    : prediction variance <  noise variance`\n"
   ]
  },
  {
   "cell_type": "markdown",
   "metadata": {},
   "source": [
    "A similar example can be given for a classification problem in two dimensions as follows\n",
    "\n",
    "<img src=\"images/01_underfit.png\" align=\"center\"/>\n"
   ]
  },
  {
   "cell_type": "markdown",
   "metadata": {},
   "source": [
    "<a id=\"audio\"></a>\n",
    "## Audio applications\n",
    "\n",
    "In order to test our algorithms on audio and music data, we will work with several datasets that should be downloaded on your local computer first from this [link ![](images/file.png)](https://nuage.ircam.fr/index.php/s/FTsaaAMFV1jEwsk)\n",
    "\n",
    "  |**Type**|*Origin*|\n",
    "  |-------:|:---------|\n",
    "  |**Classification**|[*MuscleFish*](http://knight.cis.temple.edu/~vasilis/Courses/CIS750/Papers/muscle_fish.pdf) dataset|\n",
    "  |**Music-speech**|[*MIREX Recognition*](http://www.music-ir.org/mirex/wiki/2015:Music/Speech_Classification_and_Detection) set|\n",
    "  |**Source separation**|[*SMC Mirum*](http://smc.inesctec.pt/research/data-2/) dataset|\n",
    "  |**Speech recognition**|[*CMU Arctic*](http://festvox.org/cmu_arctic/) dataset|\n",
    "\n",
    "**Unzip the file and place the `data` folder along with the other code folders**\n",
    "For the first parts of the tutorial, we will mostly rely solely on the classification dataset. In order to facilitate the interactions, we provide the function `import_dataset` that will allow to import all audio datasets along the tutorials.\n",
    "\n",
    "```Python\n",
    "def importDataset(class_path, type):\n",
    "    \"\"\"\n",
    "    Helper function to import datasets\n",
    "    % class_path  : Path to the dataset (string)\n",
    "    % type       : Type of dataset (string: 'classify', 'plain', 'metadata')\n",
    "    \"\"\" \n",
    "    # Returns the data_struct structure with\n",
    "    data_struct[\"filenames\"]  # Cell containing the list of audio files\n",
    "    data_struct[\"classes\"]    # Vector of indexes assigning each file to a class\n",
    "    data_struct[\"class_names\"] % Cell of class names\n",
    "    return data_struct\n",
    "```\n",
    "  \n",
    "***\n",
    "\n",
    "**_Exercise_**  \n",
    "\n",
    "  1. Launch the import procedure  and check the corresponding structure\n",
    "  2. Code a count function that prints the name and number of examples for each classes \n",
    "\n",
    "***"
   ]
  },
  {
   "cell_type": "code",
   "execution_count": null,
   "metadata": {},
   "outputs": [],
   "source": [
    "import numpy as np\n",
    "%matplotlib inline\n",
    "import matplotlib.pyplot as plt\n",
    "from helper_data import import_dataset\n",
    "# 0.1 - Import the classification dataset\n",
    "class_path = 'data/classification'\n",
    "data_struct = import_dataset(class_path, 'classification')"
   ]
  },
  {
   "cell_type": "code",
   "execution_count": null,
   "metadata": {},
   "outputs": [],
   "source": [
    "#%% Q-0.1.2 - Count function to print the number of examples\n",
    "\n",
    "######################\n",
    "# YOUR CODE GOES HERE\n",
    "######################\n",
    "class_names = data_struct[\"class_names\"]\n",
    "file_names = data_struct[\"filenames\"]\n",
    "classes = data_struct[\"classes\"]\n",
    "for i in range(len(file_names)):\n",
    "    c = classes[i]\n",
    "    name = file_names[i]\n",
    "    label = [c]\n",
    "    # print(f\"n°{i} - {name} -> {label}\")\n",
    "unique, counts = np.unique(classes, return_counts=True)\n",
    "for i in range(len(unique)):\n",
    "    print(f\"{unique[i]} - {class_names[unique[i]]}-> {counts[i]}\")"
   ]
  },
  {
   "cell_type": "markdown",
   "metadata": {},
   "source": [
    "### Preprocessing\n",
    "\n",
    "We will rely on a set of spectral transforms that allow to obtain a more descriptive view over the audio information. As most of these are out of the scope of the machine learning course, we redirect you to a [signal processing course](https://ccrma.stanford.edu/~jos/sasp/) proposed by [Julius O. Smith](https://ccrma.stanford.edu/~jos/).  \n",
    "\n",
    "The following functions to compute various types of transforms are given as part of the basic package, in the `helper_data.py` file  \n",
    "\n",
    "  |**File**|*Transform*|\n",
    "  |-------:|:----------|\n",
    "  |`stft.m`       |[Short-term Fourier transform](https://en.wikipedia.org/wiki/Short-time_Fourier_transform)|\n",
    "  |`fft2barkmx.m` |[Bark scale](https://en.wikipedia.org/wiki/Bark_scale) transform|\n",
    "  |`fft2melmx.m`  |[Mel scale](https://en.wikipedia.org/wiki/Mel_scale) transform|\n",
    "  |`fft2chromamx` |[Chromas vector](https://en.wikipedia.org/wiki/Harmonic_pitch_class_profiles)|\n",
    "  |`spec2cep.m`   |[Cepstrum](https://en.wikipedia.org/wiki/Cepstrum) transform|\n",
    "  |`cqt.m`        |[Constant-Q](https://en.wikipedia.org/wiki/Constant_Q_transform) transform|\n",
    "\n",
    "In order to perform the various computations, we provide the following function, which performs the different transforms on a complete dataset.  \n",
    "\n",
    "``` Python\n",
    "def computeTransforms(data_struct)\n",
    "    \"\"\" data_struct   : Dataset structure with filenames \"\"\"\n",
    "    return data_struct\n",
    "\n",
    "# Returns the data_struct structure with\n",
    "data_struct[\"spectrum_power\"]     # Power spectrum (STFT)\n",
    "data_struct[\"spectrum_mel\"]       # Spectrum in Mel scale\n",
    "data_struct[\"spectrum_chroma\"]    # Chroma vectors\n",
    "data_struct[\"spectrum_CQT\"]       # Constant-Q transform\n",
    "```\n"
   ]
  },
  {
   "cell_type": "markdown",
   "metadata": {},
   "source": [
    "***\n",
    "\n",
    "**Exercise**  \n",
    "\n",
    "  1. Launch the transform computation procedure and check the corresponding structure\n",
    "  2. For each class, select a random element and plot its various transforms on a single plot. You should obtain plots similar to those shown afterwards.\n",
    "  3. For each transform, try to spot major pros and cons of their representation.\n",
    "  \n",
    "***"
   ]
  },
  {
   "cell_type": "code",
   "execution_count": null,
   "metadata": {},
   "outputs": [],
   "source": [
    "%%capture\n",
    "# 0.2 - Pre-process the audio to obtain spectral transforms \n",
    "# (may take around a minute)\n",
    "from helper_data import compute_transforms\n",
    "data_struct = compute_transforms(data_struct)"
   ]
  },
  {
   "cell_type": "code",
   "execution_count": null,
   "metadata": {},
   "outputs": [],
   "source": [
    "#%% Q-0.2.2 - Plot the various transforms \n",
    "\n",
    "# Just a little helper to make your figures pretty\n",
    "from helper_plot import hdr_plot_style\n",
    "hdr_plot_style()\n",
    "\n",
    "######################\n",
    "# YOUR CODE GOES HERE\n",
    "######################\n",
    "#\n",
    "def get_per_key_elements(keys_arr, keys):\n",
    "    return dict((key, np.argwhere(keys_arr == key_idx)[:, 0]) for (key_idx, key) in enumerate(keys))\n",
    "\n",
    "def get_per_key_random_element(keys_arr, keys):\n",
    "    per_key_elements = get_per_key_elements(keys_arr, keys)\n",
    "    return np.array([per_key_elements[key][rng.randint(0, per_key_elements[key].shape[0])] for key in keys])\n",
    "\n",
    "class_names = data_struct[\"class_names\"]\n",
    "classes = data_struct[\"classes\"]\n",
    "spectrum_names = [\"spectrum_power\", \"spectrum_mel\", \"spectrum_chroma\", \"spectrum_CQT\"]\n",
    "\n",
    "spectrum_axes = prep_plots(spectrum_names, fig_size=(100, 10))\n",
    "\n",
    "rand_its = get_per_key_random_element(classes, class_names)\n",
    "# rand_its = rand_its[1:2]\n",
    "for (spectrum_idx, spectrum_name) in enumerate(spectrum_names):\n",
    "    axis = spectrum_axes[spectrum_idx]\n",
    "    for (rand_idx, it) in enumerate(rand_its):\n",
    "        spectrum = data_struct[spectrum_name][it]\n",
    "        print(spectrum.shape)\n",
    "        axis.pcolormesh(spectrum)"
   ]
  },
  {
   "cell_type": "markdown",
   "metadata": {},
   "source": [
    "### Pros and cons of each representation\n",
    "\n",
    "# TODO\n",
    "All have high dimensionality and can be difficult to represent in a 2D plot.\n",
    "\n",
    "Power spectrum: \n",
    "Mel scale spectrum:\n",
    "Chroma vectors:\n",
    "Constant-Q transform:"
   ]
  },
  {
   "cell_type": "markdown",
   "metadata": {},
   "source": [
    "### Features\n",
    "\n",
    "<div markdown = \"1\">\n",
    "\n",
    "As you might have noted from the previous exercice, most spectral transforms have a very high dimensionality, and might not be suited to exhibit the relevant structure of different classes. To that end, we provide a set of functions for computing several spectral features in the `helper_data` folder, we redirect interested readers to this [exhaustive article](http://recherche.ircam.fr/anasyn/peeters/ARTICLES/Peeters_2003_cuidadoaudiofeatures.pdf) on spectral features computation.\n",
    "\n",
    "  |**File**|*Transform*|\n",
    "  |-------:|:----------|\n",
    "  |`spectral_centroid`|Spectral centroid|\n",
    "  |`spectral_bandwidth`|Spectral bandwidth|\n",
    "  |`spectral_contrast`|Spectral contrast|\n",
    "  |`spectral_flatness`|Spectral flatness|\n",
    "  |`spectral_rolloff`|Spectral rolloff|\n",
    "\n",
    "Once again, we provide a function to perform the computation of different features on a complete set. Note that for each feature, we compute the temporal evolution in a vector along with the mean and standard deviation of each feature. We only detail the resulting data structure for a single feature (`SpectralCentroid`).  \n",
    "\n",
    "``` Python\n",
    "def data_struct = computeFeatures(data_struct)\n",
    "     \"\"\" data_struct   : Dataset structure with filenames \"\"\"\n",
    "    return data_struct\n",
    "\n",
    "% Returns the data_struct structure with\n",
    "data_struct[\"spectral_centroid\"]      # Temporal value of a feature\n",
    "data_struct[\"spectral_centroid_mean\"] # Mean value of that feature\n",
    "data_struct[\"spectral_centroid_std\"]  # Standard deviation\n",
    "```"
   ]
  },
  {
   "cell_type": "markdown",
   "metadata": {},
   "source": [
    "***\n",
    "\n",
    "**Exercise**\n",
    "\n",
    "  1. Launch the feature computation procedure and check the corresponding structure\n",
    "  2. This time for each class, superimpose the plots of various features on a single plot, along with a boxplot of mean and standard deviations. You should obtain plots similar to those shown afterwards.\n",
    "  3. What conclusions can you make on the discriminative power of each feature ?\n",
    "  4. Perform scatter plots of the mean features for all the dataset, while coloring different classes.\n",
    "  5. What conclusions can you make on the discriminative power of mean features ?\n",
    "\n",
    "***"
   ]
  },
  {
   "cell_type": "code",
   "execution_count": null,
   "metadata": {},
   "outputs": [],
   "source": [
    "#%%\n",
    "# 0.3 - Compute a set of temporal and spectral features\n",
    "# (may take around 1-2 minutes)\n",
    "from helper_data import compute_features\n",
    "data_struct = compute_features(data_struct)"
   ]
  },
  {
   "cell_type": "code",
   "execution_count": null,
   "metadata": {},
   "outputs": [],
   "source": [
    "#%% Q-0.3.2 - Plot the various features \n",
    "\n",
    "# Just a little helper to make your figures pretty\n",
    "from helper_plot import hdr_plot_style\n",
    "hdr_plot_style()\n",
    "# Use these styles for boxplot\n",
    "boxprops=dict(linewidth=3, color='white')\n",
    "whiskerprops=dict(linewidth=3, color='white')\n",
    "medianprops=dict(linewidth=2.5, color='firebrick')\n",
    "flierprops = dict(markeredgecolor='white', markerfacecolor='firebrick')\n",
    "\n",
    "######################\n",
    "# YOUR CODE GOES HERE\n",
    "######################\n",
    "feature_names = [\"spectral_centroid\", \"spectral_bandwidth\", \"spectral_contrast\", \"spectral_flatness\", \"spectral_rolloff\"]\n",
    "moment_names = [\"mean\", \"std\"]\n",
    "\n",
    "\n",
    "rand_its = get_per_key_random_element(classes, class_names)\n",
    "feature_axes = prep_plots(feature_names, fig_size=(100, 10))\n",
    "\n",
    "for (feature_idx, feature_name) in enumerate(feature_names):\n",
    "    axis = feature_axes[feature_idx]\n",
    "    for (rand_idx, it) in enumerate(rand_its):\n",
    "        feature_values = data_struct[feature_name][rand_idx][0]\n",
    "        x = np.arange(feature_values.shape[0])\n",
    "        # print(x.shape)\n",
    "        # print(feature_values.shape)\n",
    "        # print(f\"Feature: {feature_name} - {data_struct[feature_name][it]}\")\n",
    "        #\n",
    "        axis.plot(x, feature_values, label=f\"values {class_names[rand_idx]}\")\n",
    "        for (moment_idx, moment_name) in enumerate(moment_names):\n",
    "            feature_full_name = f\"{feature_name}_{moment_name}\"\n",
    "            moment_value = data_struct[feature_full_name][it]\n",
    "            axis.plot([0, 1], [moment_value, moment_value], label=f\"mean {class_names[rand_idx]}\")\n",
    "            # axis.boxplot(vert=True)\n",
    "\n",
    "finalize_plots(feature_axes, fig_title=\"Per-class features\")\n"
   ]
  },
  {
   "cell_type": "code",
   "execution_count": null,
   "metadata": {},
   "outputs": [],
   "source": [
    "#%% Q-0.3.4 - Observe the distribution of classes for different features\n",
    "\n",
    "# This allows to use 3D rendering in matplotlib\n",
    "from mpl_toolkits.mplot3d import Axes3D\n",
    "plt.figure(figsize=(12,8))\n",
    "# Create a vector of random colors for each class\n",
    "colorVect = np.zeros((3, len(data_struct[\"class_names\"])));\n",
    "for c in range(len(data_struct[\"class_names\"])):\n",
    "    colorVect[:,c] = np.random.rand(3);\n",
    "\n",
    "######################\n",
    "# YOUR CODE GOES HERE\n",
    "######################\n"
   ]
  },
  {
   "cell_type": "markdown",
   "metadata": {},
   "source": [
    "That's it for this tutorial, now remember that we can use any form of description (features) as a basis for learning algorithms. We will see in the next tutorial what we an do with these features."
   ]
  }
 ],
 "metadata": {
  "interpreter": {
   "hash": "d9ede2aee53f8e8bf5c1b30ec575e71e4a41510f580183624109dab457fd1f43"
  },
  "kernelspec": {
   "display_name": "Python 3.7.10 64-bit ('env_info': conda)",
   "name": "python3"
  },
  "language_info": {
   "codemirror_mode": {
    "name": "ipython",
    "version": 3
   },
   "file_extension": ".py",
   "mimetype": "text/x-python",
   "name": "python",
   "nbconvert_exporter": "python",
   "pygments_lexer": "ipython3",
   "version": "3.7.10"
  },
  "latex_envs": {
   "LaTeX_envs_menu_present": true,
   "autoclose": false,
   "autocomplete": true,
   "bibliofile": "biblio.bib",
   "cite_by": "apalike",
   "current_citInitial": 1,
   "eqLabelWithNumbers": true,
   "eqNumInitial": 1,
   "hotkeys": {
    "equation": "Ctrl-E",
    "itemize": "Ctrl-I"
   },
   "labels_anchors": false,
   "latex_user_defs": false,
   "report_style_numbering": false,
   "user_envs_cfg": false
  }
 },
 "nbformat": 4,
 "nbformat_minor": 4
}
